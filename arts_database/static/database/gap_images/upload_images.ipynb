{
 "cells": [
  {
   "cell_type": "code",
   "execution_count": 58,
   "metadata": {},
   "outputs": [],
   "source": [
    "import os\n",
    "import cv2\n",
    "from sklearn.decomposition import PCA\n",
    "import pandas as pd\n",
    "from tqdm.notebook import tqdm\n",
    "\n",
    "DATABASE_FOLDER = 'gap_images'\n",
    "def read_database():\n",
    "    image_list = []\n",
    "    # r=>root, d=>directories, f=>files\n",
    "    for r, d, f in os.walk(DATABASE_FOLDER):\n",
    "        for item in f:\n",
    "            if '.jpg' in item:\n",
    "                image_list.append(os.path.join(r, item))\n",
    "    return image_list\n",
    "\n",
    "image_list = read_database()"
   ]
  },
  {
   "cell_type": "code",
   "execution_count": 59,
   "metadata": {},
   "outputs": [],
   "source": [
    "# use PCA to decrease dimension\n",
    "df = pd.DataFrame()"
   ]
  },
  {
   "cell_type": "code",
   "execution_count": 60,
   "metadata": {},
   "outputs": [
    {
     "data": {
      "application/vnd.jupyter.widget-view+json": {
       "model_id": "7d07c8d56d724cdbbd7909e8e3edd82a",
       "version_major": 2,
       "version_minor": 0
      },
      "text/plain": [
       "HBox(children=(FloatProgress(value=0.0, max=9294.0), HTML(value='')))"
      ]
     },
     "metadata": {},
     "output_type": "display_data"
    },
    {
     "name": "stderr",
     "output_type": "stream",
     "text": [
      "/Users/Ann/anaconda3/lib/python3.7/site-packages/sklearn/decomposition/pca.py:447: RuntimeWarning: invalid value encountered in true_divide\n",
      "  explained_variance_ratio_ = explained_variance_ / total_var\n"
     ]
    },
    {
     "name": "stdout",
     "output_type": "stream",
     "text": [
      "\n"
     ]
    }
   ],
   "source": [
    "# use PCA to decrease dimension\n",
    "for img in tqdm(image_list):\n",
    "    filename = img.split('/')[-1]\n",
    "    img_obj = cv2.imread(img)\n",
    "    img_obj = cv2.cvtColor(img_obj, cv2.COLOR_BGR2GRAY)\n",
    "    img_obj = cv2.resize(img_obj, dsize = (32,32))\n",
    "    pca = PCA(n_components=1)\n",
    "    img = pca.fit_transform(img_obj)\n",
    "    df = df.append(pd.Series([filename]+img.reshape(1,-1)[0].tolist()), ignore_index = True)"
   ]
  },
  {
   "cell_type": "code",
   "execution_count": 75,
   "metadata": {},
   "outputs": [],
   "source": [
    "df2 = df.copy()\n",
    "df2 = df2.set_index([0])"
   ]
  },
  {
   "cell_type": "code",
   "execution_count": 80,
   "metadata": {},
   "outputs": [],
   "source": [
    "df2.to_csv('image_info.csv')"
   ]
  }
 ],
 "metadata": {
  "kernelspec": {
   "display_name": "Python 3",
   "language": "python",
   "name": "python3"
  },
  "language_info": {
   "codemirror_mode": {
    "name": "ipython",
    "version": 3
   },
   "file_extension": ".py",
   "mimetype": "text/x-python",
   "name": "python",
   "nbconvert_exporter": "python",
   "pygments_lexer": "ipython3",
   "version": "3.7.0"
  }
 },
 "nbformat": 4,
 "nbformat_minor": 2
}